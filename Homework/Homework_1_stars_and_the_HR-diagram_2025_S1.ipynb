{
 "cells": [
  {
   "cell_type": "markdown",
   "id": "a6bfe524",
   "metadata": {},
   "source": [
    "# Homework 1: Stars and the Herzsprung-Russel Diagram\n",
    "\n",
    "The homework should be submitted as a python notebook. Please email the homework to hdenes@yachaytech.edu.ec by the **end of the day (midnight) by the 11th of April.**\n",
    "\n",
    "Total points: 20 (each literal is worth 1 point)\n",
    "\n",
    "You can contact me in person or in email if you have any questions.\n",
    "\n",
    "**Important notes:**\n",
    "\n",
    "- The tutorial notebook contains the methods that you can use to solve the homework.\n",
    "- To make the HR-diagram look correct make sure to invert the y-axis of the plot. Smaller magnitudes correspont to brighter stars. \n",
    "- Make sure that all plots show information in a reasonable way. E.g. no large white spaces in the plots and that histograms have appropriate bin sizes. \n",
    "- Make sure to appropriately lable the axes of all figures.\n",
    "\n",
    "**It is not allowed to use any generative AI software for the homework!** "
   ]
  },
  {
   "cell_type": "markdown",
   "id": "31dbbf60",
   "metadata": {},
   "source": [
    "## Compare the HR diagrams of 3 star clusters\n",
    "\n",
    "1. Download GAIA data for the following star clusters: NGC752, M67 and the M41. To minimize how much data you download you can define the searched region of the sky as 1 deg (NGC752), 0.4 (M67) deg, 0.6 (M41) deg for the clusters. \n",
    "    - Information on data access: https://astroquery.readthedocs.io/en/latest/gaia/gaia.html\n",
    "    - Detailed description on the data table: https://gea.esac.esa.int/archive/documentation/GDR1/datamodel/Ch1/gaia_source.html \n",
    "\n",
    "2. Make a scatter plot of the proper motion of the stars, where you plot the R.A. component of the proper motion on the x-axis and the Dec. component of the proper motion on the y-axis. Make one scatter plot per cluster. Whar are the approximate proper motion components of the 3 star clusters?\n",
    "    - Make sure to adjust the axis scale of the plots.\n",
    "\n",
    "3. Calculate the distance for all stars and make a histogram of the calculated distances for all data. Include data from all star clusters in one histogram. Which star cluster is the furthest?\n",
    "    - The distance can be calculated the following way: D = 1/p where p is the paralax in arcseconds. The paralax in the GAIA data table is in milliarcseconds. \n",
    "\n",
    "4. Calculate the G-band absolute magnitude of the stars for all data.  \n",
    "\n",
    "### Malmquist bias\n",
    "5. Make a scatter plot showing the Malmquist bias. For this, plot the distance to the stars on the x-axis and the G band absolute magnitude on the y-axis. Plot the data for the different star clusters in different colours on the same diagram. \n",
    "\n",
    "6. Based on the plot, what does the Malmquist bias mean? \n",
    "\n",
    "7. Is there a difference between the data of the 3 star clusters? What is the reason for this?\n",
    "\n",
    "### Isolate data for the clusters\n",
    "8. Based on the previous plots that you created, isolate the stars that belong to the star clusters from the data table. You can separate the clusters based on the proper motion and the distance of the star clusters. \n",
    "\n",
    "9. Check how well your separation works. Make a histogram of the proper motion of the stars. You can make a plot with two panels one for the R.A. component and one for the Dec component of the proper motion. \n",
    "    - Make sure to use different colours for the different star clusters. \n",
    "    - Make sure to define bins with equal spacing for all of the data. Tip: You can use numpy arange to define the edges of each bin. \n",
    " \n",
    "10. Make a histogram of the parallax of the proper motion selected stars. Display all 3 clusters in one figure. \n",
    "\n",
    "11. Plot an HR diagram with all 3 clusters, make sure that the main sequence of the clusters is aligned. With this we are able to directly compare the clusters. \n",
    "\n",
    "12. Which star cluster is the oldest and which star cluster is the youngest?\n",
    "\n",
    "13. At approximately which absolute G magnitude is the \"turning of point\" for each of the clusters.  \n",
    "\n",
    "14. Do a google search on the star clusters. What type of star clusters are these 3 clusters? Are they open clusters or globular clusters?\n",
    "\n",
    "## White dwarfs \n",
    "\n",
    "White dwarfs are very old stars, this means that they are more likely to be found in older galaxy clusters. \n",
    "\n",
    "15. Make an appropriate cut in the data of all 3 clusters to select only the white dwarf stars. How many white dwarf stars did you identify in each star cluster?\n",
    "    - Select data based on the absolute G-band magnitude and the colour.\n",
    "\n",
    "16. Is it true that there are more white dwarfs in the older star clusters?\n",
    "\n",
    "17. Make a proper motion diagram (pm_ra, pm_dec) of each galaxy cluster highlighting the white dwarfs in the clusters. \n",
    "\n",
    "## Variable stars\n",
    "\n",
    "18. The data table has a column called 'phot_variable_flag'. These are variable stars identified in the GAIA data.  Use a selection cut to identify variable stars. How many variable stars did you find in each star cluster?\n",
    "\n",
    "19. Make one HR diagram where you display the non variable stars in one colour (e.g. blue for all 3 clusters) and mark the variable stars in a different colour. \n",
    "\n",
    "20. Which part of the HR-diagram are the variable stars? "
   ]
  },
  {
   "cell_type": "code",
   "execution_count": null,
   "id": "9a8498bc",
   "metadata": {},
   "outputs": [],
   "source": []
  }
 ],
 "metadata": {
  "kernelspec": {
   "display_name": "Python 3 (ipykernel)",
   "language": "python",
   "name": "python3"
  },
  "language_info": {
   "codemirror_mode": {
    "name": "ipython",
    "version": 3
   },
   "file_extension": ".py",
   "mimetype": "text/x-python",
   "name": "python",
   "nbconvert_exporter": "python",
   "pygments_lexer": "ipython3",
   "version": "3.8.8"
  }
 },
 "nbformat": 4,
 "nbformat_minor": 5
}
