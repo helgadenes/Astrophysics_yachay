{
 "cells": [
  {
   "cell_type": "markdown",
   "id": "a8922620",
   "metadata": {},
   "source": [
    "# Analysing star formation properties of galaxies\n",
    "\n",
    "The homework should be submitted as a python notebook. Make all the plots in the python notebook.\n",
    "\n",
    "Please email the homework to hdenes@yachaytech.edu.ec by the end of the day **(midnight) by the 28th of May.**\n",
    "\n",
    "Total points: 22\n",
    "\n",
    "Please let me know if you have any questions.\n",
    "\n",
    "Important notes:\n",
    "\n",
    "- The tutorial notebooks contain the methods that you can use to solve the homework.\n",
    "- If you have problems with some of the specific astrophysics packages, make sure to check the versions. Not all versions of the packages are compatible with each other.\n",
    "\n",
    "This notebook aims to help you explore star formation in galaxies using data from the SDSS survey. The notebook provides instructions and some code to help you. The instructions ask you to perform some simple calculations and to create histograms and scatter plots.\n",
    "\n",
    "First dwonload the relevant data from the Sloan DIgital Sky Survey (SDSS) data base. The code for this is provided. In the cell below.  \n",
    "\n",
    "- The SpecObj table contains basic information about the observation and the object, such as the redshift.\n",
    "- The galaxy table provides useful photometric measurements for colors and images.\n",
    "- The three GalSpec table each give products derived from spectroscopy.\n",
    "\n",
    "We are going to use the intensity measurments of hydrogen lines H$\\alpha$ and H$\\beta$ for the data analysis.\n",
    "\n",
    "The H$\\alpha$ emission line is a convienient indicator of the star formation rate.\n",
    "\n",
    "We want galaxies with quality measurements of this line strength, so a S/N restriction is specified. We also want the H$\\beta$ emission line, because as we will see below, this will assist us in accounting for dust absorption along our line of sight."
   ]
  },
  {
   "cell_type": "code",
   "execution_count": 1,
   "id": "edad9d87",
   "metadata": {},
   "outputs": [],
   "source": [
    "#!pip install astroquery"
   ]
  },
  {
   "cell_type": "code",
   "execution_count": 2,
   "id": "c8fe5219",
   "metadata": {},
   "outputs": [],
   "source": [
    "# Import relevant libraries\n",
    "\n",
    "import pandas as pd # data analysis\n",
    "import numpy as np # more data analysis\n",
    "\n",
    "from matplotlib import pyplot as plt # another plotting library\n",
    "from matplotlib.image import imread\n",
    "\n",
    "from astropy.constants import c # useful constants\n",
    "from astropy import units as u # useful for unit conversions\n",
    "from astropy import coordinates as coords\n",
    "from astropy.coordinates import SkyCoord\n",
    "from astropy.io import fits\n",
    "from astropy.io import ascii\n",
    "\n",
    "from astroquery.sdss import SDSS\n",
    "from astroquery.simbad import Simbad\n",
    "\n",
    "# Python standard-libraries to download data from the web\n",
    "from urllib.parse import urlencode\n",
    "from urllib.request import urlretrieve\n",
    "\n",
    "#only here to display images\n",
    "from IPython.display import Image"
   ]
  },
  {
   "cell_type": "code",
   "execution_count": 3,
   "id": "afb64956",
   "metadata": {},
   "outputs": [
    {
     "data": {
      "text/html": [
       "<div><i>Table length=63676</i>\n",
       "<table id=\"table140690845919936\" class=\"table-striped table-bordered table-condensed\">\n",
       "<thead><tr><th>plate</th><th>fiberid</th><th>mjd</th><th>ra</th><th>dec</th><th>z</th><th>zwarning</th><th>h_beta_flux</th><th>h_alpha_flux</th><th>h_beta_flux_err</th><th>h_alpha_flux_err</th><th>bptclass</th><th>lgm_tot_p50</th><th>lick_hd_a_sub</th><th>d4000_n_sub</th><th>lick_hd_a_sub_err</th><th>d4000_n_sub_err</th><th>petror90_r</th><th>u</th><th>g</th></tr></thead>\n",
       "<thead><tr><th>int64</th><th>int64</th><th>int64</th><th>float64</th><th>float64</th><th>float64</th><th>int64</th><th>float64</th><th>float64</th><th>float64</th><th>float64</th><th>int64</th><th>float64</th><th>float64</th><th>float64</th><th>float64</th><th>float64</th><th>float64</th><th>float64</th><th>float64</th></tr></thead>\n",
       "<tr><td>955</td><td>391</td><td>52409</td><td>183.27739</td><td>60.480475</td><td>0.06060647</td><td>0</td><td>96.19413</td><td>495.4123</td><td>3.51968</td><td>5.957983</td><td>1</td><td>10.49626</td><td>3.160513</td><td>1.368559</td><td>1.018631</td><td>0.02535194</td><td>7.746634</td><td>18.41278</td><td>16.9697</td></tr>\n",
       "<tr><td>746</td><td>595</td><td>52238</td><td>353.02504</td><td>14.658856</td><td>0.05207083</td><td>0</td><td>40.11513</td><td>176.1335</td><td>2.072629</td><td>2.495053</td><td>1</td><td>9.998335</td><td>3.891378</td><td>1.291155</td><td>0.9881429</td><td>0.02443378</td><td>9.422651</td><td>18.07653</td><td>16.71468</td></tr>\n",
       "<tr><td>335</td><td>259</td><td>52000</td><td>188.79486</td><td>-3.6267398</td><td>0.0618315</td><td>0</td><td>231.1848</td><td>825.0306</td><td>5.024268</td><td>9.044853</td><td>1</td><td>10.61408</td><td>4.09708</td><td>1.36237</td><td>0.4598</td><td>0.01124687</td><td>7.199551</td><td>17.91207</td><td>16.52407</td></tr>\n",
       "<tr><td>2095</td><td>627</td><td>53474</td><td>182.15531</td><td>32.77248</td><td>0.07750339</td><td>0</td><td>28.01029</td><td>137.8846</td><td>2.10064</td><td>2.765919</td><td>1</td><td>10.50126</td><td>1.255995</td><td>1.540154</td><td>1.549366</td><td>0.04240011</td><td>9.047221</td><td>19.1145</td><td>17.69467</td></tr>\n",
       "<tr><td>1982</td><td>173</td><td>53436</td><td>159.23262</td><td>33.158832</td><td>0.05806699</td><td>0</td><td>95.43597</td><td>449.9062</td><td>3.2033</td><td>5.43752</td><td>1</td><td>10.06205</td><td>5.048192</td><td>1.242341</td><td>0.9378778</td><td>0.02153059</td><td>5.773644</td><td>18.94616</td><td>17.61211</td></tr>\n",
       "<tr><td>2019</td><td>358</td><td>53430</td><td>158.92351</td><td>31.959137</td><td>0.09198916</td><td>0</td><td>16.37336</td><td>72.42564</td><td>1.817102</td><td>1.966341</td><td>1</td><td>10.48752</td><td>4.153803</td><td>1.355791</td><td>1.777952</td><td>0.04463128</td><td>9.201891</td><td>19.46642</td><td>17.98644</td></tr>\n",
       "<tr><td>1847</td><td>375</td><td>54176</td><td>230.36403</td><td>29.20871</td><td>0.07329261</td><td>0</td><td>49.51539</td><td>140.6427</td><td>2.004025</td><td>3.605096</td><td>1</td><td>9.413338</td><td>5.58842</td><td>1.182722</td><td>1.538407</td><td>0.03102936</td><td>7.158186</td><td>18.97913</td><td>18.06407</td></tr>\n",
       "<tr><td>353</td><td>463</td><td>51703</td><td>256.6125</td><td>59.764947</td><td>0.0625184</td><td>0</td><td>74.2469</td><td>278.1331</td><td>1.929753</td><td>2.845105</td><td>1</td><td>9.498861</td><td>7.412485</td><td>1.273366</td><td>0.637341</td><td>0.01501191</td><td>6.113748</td><td>18.84763</td><td>17.58364</td></tr>\n",
       "<tr><td>...</td><td>...</td><td>...</td><td>...</td><td>...</td><td>...</td><td>...</td><td>...</td><td>...</td><td>...</td><td>...</td><td>...</td><td>...</td><td>...</td><td>...</td><td>...</td><td>...</td><td>...</td><td>...</td><td>...</td></tr>\n",
       "<tr><td>2151</td><td>594</td><td>54523</td><td>226.5961</td><td>28.435907</td><td>0.08426109</td><td>0</td><td>37.60572</td><td>128.5401</td><td>1.632425</td><td>1.980628</td><td>1</td><td>9.871437</td><td>4.522379</td><td>1.231687</td><td>1.540371</td><td>0.03227689</td><td>7.729853</td><td>18.77505</td><td>17.55388</td></tr>\n",
       "<tr><td>2518</td><td>38</td><td>54243</td><td>238.2086</td><td>15.593727</td><td>0.06379382</td><td>0</td><td>36.95331</td><td>117.7321</td><td>2.236108</td><td>2.866192</td><td>1</td><td>10.14846</td><td>5.430898</td><td>1.460818</td><td>1.65657</td><td>0.04860395</td><td>8.094833</td><td>18.44198</td><td>17.21566</td></tr>\n",
       "<tr><td>694</td><td>317</td><td>52209</td><td>15.822065</td><td>-0.55369359</td><td>0.06439916</td><td>0</td><td>18.8961</td><td>74.19709</td><td>1.906331</td><td>2.066797</td><td>1</td><td>9.904433</td><td>15.40575</td><td>1.578064</td><td>3.172324</td><td>0.1210085</td><td>8.297569</td><td>19.13952</td><td>17.97995</td></tr>\n",
       "<tr><td>2520</td><td>6</td><td>54584</td><td>239.21053</td><td>10.536051</td><td>0.07199409</td><td>0</td><td>41.56986</td><td>158.2091</td><td>2.044666</td><td>3.037816</td><td>1</td><td>10.68965</td><td>1.421933</td><td>1.554553</td><td>0.5189442</td><td>0.01523569</td><td>8.668175</td><td>17.63726</td><td>16.30076</td></tr>\n",
       "<tr><td>612</td><td>600</td><td>52079</td><td>229.93919</td><td>57.34387</td><td>0.05189068</td><td>0</td><td>131.2626</td><td>471.2979</td><td>3.336369</td><td>5.543865</td><td>1</td><td>9.227625</td><td>6.016236</td><td>1.110319</td><td>0.8465811</td><td>0.0165057</td><td>6.237201</td><td>18.51788</td><td>17.46723</td></tr>\n",
       "<tr><td>1497</td><td>548</td><td>52886</td><td>15.049798</td><td>0.304702</td><td>0.07905752</td><td>0</td><td>29.05139</td><td>141.7964</td><td>1.737013</td><td>2.188467</td><td>1</td><td>9.929766</td><td>5.843718</td><td>1.363711</td><td>1.712459</td><td>0.04444076</td><td>5.036172</td><td>20.08413</td><td>18.51203</td></tr>\n",
       "<tr><td>1611</td><td>345</td><td>53147</td><td>180.06259</td><td>12.656899</td><td>0.08187757</td><td>0</td><td>40.56411</td><td>170.9598</td><td>2.553689</td><td>3.125898</td><td>1</td><td>10.37359</td><td>5.533061</td><td>1.324646</td><td>1.445295</td><td>0.03709769</td><td>5.396336</td><td>19.09459</td><td>17.90064</td></tr>\n",
       "<tr><td>1541</td><td>578</td><td>53732</td><td>3.9637539</td><td>0.97307301</td><td>0.0450835</td><td>0</td><td>6.443309</td><td>26.38861</td><td>1.000921</td><td>1.731655</td><td>1</td><td>9.018254</td><td>1.871857</td><td>1.307824</td><td>2.666512</td><td>0.06207279</td><td>5.261175</td><td>20.81349</td><td>19.54827</td></tr>\n",
       "</table></div>"
      ],
      "text/plain": [
       "<Table length=63676>\n",
       "plate fiberid  mjd      ra        dec         z      ... lick_hd_a_sub_err d4000_n_sub_err petror90_r    u        g    \n",
       "int64  int64  int64  float64    float64    float64   ...      float64          float64      float64   float64  float64 \n",
       "----- ------- ----- --------- ----------- ---------- ... ----------------- --------------- ---------- -------- --------\n",
       "  955     391 52409 183.27739   60.480475 0.06060647 ...          1.018631      0.02535194   7.746634 18.41278  16.9697\n",
       "  746     595 52238 353.02504   14.658856 0.05207083 ...         0.9881429      0.02443378   9.422651 18.07653 16.71468\n",
       "  335     259 52000 188.79486  -3.6267398  0.0618315 ...            0.4598      0.01124687   7.199551 17.91207 16.52407\n",
       " 2095     627 53474 182.15531    32.77248 0.07750339 ...          1.549366      0.04240011   9.047221  19.1145 17.69467\n",
       " 1982     173 53436 159.23262   33.158832 0.05806699 ...         0.9378778      0.02153059   5.773644 18.94616 17.61211\n",
       " 2019     358 53430 158.92351   31.959137 0.09198916 ...          1.777952      0.04463128   9.201891 19.46642 17.98644\n",
       " 1847     375 54176 230.36403    29.20871 0.07329261 ...          1.538407      0.03102936   7.158186 18.97913 18.06407\n",
       "  353     463 51703  256.6125   59.764947  0.0625184 ...          0.637341      0.01501191   6.113748 18.84763 17.58364\n",
       "  ...     ...   ...       ...         ...        ... ...               ...             ...        ...      ...      ...\n",
       " 2151     594 54523  226.5961   28.435907 0.08426109 ...          1.540371      0.03227689   7.729853 18.77505 17.55388\n",
       " 2518      38 54243  238.2086   15.593727 0.06379382 ...           1.65657      0.04860395   8.094833 18.44198 17.21566\n",
       "  694     317 52209 15.822065 -0.55369359 0.06439916 ...          3.172324       0.1210085   8.297569 19.13952 17.97995\n",
       " 2520       6 54584 239.21053   10.536051 0.07199409 ...         0.5189442      0.01523569   8.668175 17.63726 16.30076\n",
       "  612     600 52079 229.93919    57.34387 0.05189068 ...         0.8465811       0.0165057   6.237201 18.51788 17.46723\n",
       " 1497     548 52886 15.049798    0.304702 0.07905752 ...          1.712459      0.04444076   5.036172 20.08413 18.51203\n",
       " 1611     345 53147 180.06259   12.656899 0.08187757 ...          1.445295      0.03709769   5.396336 19.09459 17.90064\n",
       " 1541     578 53732 3.9637539  0.97307301  0.0450835 ...          2.666512      0.06207279   5.261175 20.81349 19.54827"
      ]
     },
     "execution_count": 3,
     "metadata": {},
     "output_type": "execute_result"
    }
   ],
   "source": [
    "# Create a query to fetch star forming galaxies\n",
    "\n",
    "query = 'SELECT s.plate, s.fiberid, s.mjd, s.ra, s.dec, s.z, s.zwarning, '   # selecting the measured quantities that we want\n",
    "query += 'g.h_beta_flux, g.h_alpha_flux, '\n",
    "query += 'g.h_beta_flux_err, g.h_alpha_flux_err, '\n",
    "query += 'e.bptclass, e.lgm_tot_p50, '\n",
    "query += 'i.lick_hd_a_sub, i.d4000_n_sub, '\n",
    "query += 'i.lick_hd_a_sub_err, i.d4000_n_sub_err, '\n",
    "query += 'p.petror90_r, p.dered_u as u, p.dered_g as g '\n",
    "query += 'FROM GalSpecLine AS g, SpecObj AS s, GalSpecExtra AS e, GalSpecIndx AS i, galaxy AS p '  # selecting the data tables\n",
    "query += 'WHERE '                                  # matching tables and applying some selection criteria\n",
    "query += 's.specobjid = g.specobjid '\n",
    "query += 'AND s.specobjid = e.specobjid '\n",
    "query += 'AND s.specobjid = i.specobjid '\n",
    "query += 'AND s.bestobjid = p.objid '\n",
    "query += 'AND bptclass = 1 '\n",
    "query += 'AND p.petror90_r > 5 '\n",
    "query += 'AND s.z BETWEEN 0.04 and 0.1 ' # Lower limit needed for global parameters w/ small aperture\n",
    "query += 'AND h_alpha_flux > h_alpha_flux_err*5.0 ' # Make sure Balmer lines have adequate S/N\n",
    "query += 'AND h_beta_flux > h_beta_flux_err*5.0 '\n",
    "query += 'AND d4000_n_sub > d4000_n_sub_err*5.0 '\n",
    "query += 'AND h_alpha_flux_err > 0 ' #  Consistency check\n",
    "query += 'AND h_beta_flux_err > 0 '\n",
    "query += 'AND h_alpha_flux > 2.7*h_beta_flux ' #  Ensures proper continuum subtraction\n",
    "query += 'AND lgm_tot_p50 > 0 '\n",
    "query += 'AND sigma_balmer < 509.55 ' #  Exclude the broad line emitting galaxies\n",
    "query += 'AND s.class = \\'GALAXY\\' '  #  Looking for galaxies, not stars\n",
    "query += 'AND s.zwarning = 0 '\n",
    "#print (query) # useful for debugging, remove first # to uncomment\n",
    "\n",
    "# send query to SDSS\n",
    "gals = SDSS.query_sql(query,data_release=16)\n",
    "\n",
    "# check data table that we got from the data base\n",
    "gals"
   ]
  },
  {
   "cell_type": "markdown",
   "id": "921d7cb6",
   "metadata": {},
   "source": [
    "### Dereddening the Spectrum\n",
    "\n",
    "In order to determine the star formation rate (SFR) in each galaxy, we need to get the H $\\alpha$ luminosity L(H$\\alpha$) emitted from each galaxy. The SQL query gives us the observed flux F(H$\\alpha$), but this doesn’t account for dust absorbing some of this light as it travels from a galaxy to the point of observation. Fortunately, we can correct for this “extinction” by making use of the fact that dust preferentially absorbs shorter wavelength light to “deredden” the spectrum. In ideal conditions without dust, we can assume that\n",
    "F(H$\\alpha$)/F(H$\\beta$) = 2.86 in star forming regions. Let’s deredden the H$\\alpha$ flux."
   ]
  },
  {
   "cell_type": "code",
   "execution_count": 4,
   "id": "62ab5d41",
   "metadata": {},
   "outputs": [],
   "source": [
    "# Deredden emission lines according to Calzetii+ 2000\n",
    "# wavelength supplied in angstroms\n",
    "# wl : wavelenght\n",
    "# kwl : wavenumber\n",
    "\n",
    "def deredden(lum,wl,Hb,Ha):\n",
    "    if (wl >= 6300 and wl <= 22000):\n",
    "        wl = wl/1e4 # convert to microns\n",
    "        kwl = 2.659*(-1.857+1.040/wl)+4.05\n",
    "    elif (wl >= 1200 and wl < 6300):\n",
    "        wl = wl/1e4 # convert to microns\n",
    "        kwl = 2.659*(-2.156+1.509/wl-0.198/wl**2+0.011/wl**3)+4.05\n",
    "    else:\n",
    "        print ('Wavelength of range')\n",
    "\n",
    "    # Using k-values calc as above\n",
    "    kHa = 3.326\n",
    "    kHb = 4.598\n",
    "\n",
    "    ebmv = 2.5/(kHb-kHa)*np.log10(Ha/Hb/2.86) # 2.86 for SF; 3.1 for AGN\n",
    "    lum_dr = lum*10**(0.4*kwl*ebmv)\n",
    "\n",
    "    return lum_dr\n",
    "\n",
    "####\n",
    "\n",
    "Halpha_flux = gals['h_alpha_flux']\n",
    "Hbeta_flux = gals['h_beta_flux']\n",
    "\n",
    "#The actual H alpha flux\n",
    "Halpha_flux_dr = deredden(Halpha_flux,6563,Hbeta_flux,Halpha_flux)"
   ]
  },
  {
   "cell_type": "markdown",
   "id": "a2b6a9e5",
   "metadata": {},
   "source": [
    "According to the GalSpecLine table, the line flux is returned as 10$^{-17}$ erg/s/cm$^2$, so we first need to multiply our dereddened F(H) by 10$^{-17}$ to get actual flux value. Luminosity has units of energy / second, and an erg is a unit of energy.\n",
    "\n"
   ]
  },
  {
   "cell_type": "code",
   "execution_count": 5,
   "id": "f4f57e4f",
   "metadata": {},
   "outputs": [],
   "source": [
    "flux = Halpha_flux_dr * 1e-17 #Actual flux"
   ]
  },
  {
   "cell_type": "markdown",
   "id": "80982ed3",
   "metadata": {},
   "source": [
    "1) Calcualte the distance to the galaxies in the sample in cm. Make sure to clarify which hubble constant you are using.\n",
    "\n",
    "You can convert the redshift (z) to distance (d) using the following relation:  \n",
    "$$z=H_0 \\frac{d}{c}$$\n",
    "\n",
    "For the Hubble Constant you can use $H_0$=70 (km /s)/Mpc, and c is the speed of light."
   ]
  },
  {
   "cell_type": "markdown",
   "id": "7f6e8c44",
   "metadata": {},
   "source": [
    "2) Convert the H$\\alpha$ flux, $F(H_\\alpha)$, into H$\\alpha$ luminosity, $L(H_\\alpha)$. The Luminosity is given by the following equation: $$L(H_\\alpha)= 4 \\pi d^2 F(H_\\alpha)$$\n",
    "\n",
    "d is the distance to the galaxy."
   ]
  },
  {
   "cell_type": "markdown",
   "id": "83c4fee7",
   "metadata": {},
   "source": [
    "We can now use the L(H$\\alpha$) to determine the star formation rate (SFR) of the galaxies in our sample. The star formation rate is how many new stars a galaxy forms per year in units of solar mass/year (M$_{\\odot}$/yr). To calcualte the SFR we can use the following conversion:\n",
    "\n",
    "$$SFR = \\frac{L(H\\alpha)}{1.26 \\times 10^{41} ergs \\ s^{-1}}$$"
   ]
  },
  {
   "cell_type": "markdown",
   "id": "d712bb0d",
   "metadata": {},
   "source": [
    "3) Calcualte the star formation rate as $log_{10}(SFR)$. Make a histogram of $log_{10}(SFR)$. How is the distribution of the star formation rate?  "
   ]
  },
  {
   "cell_type": "markdown",
   "id": "0e47b3c4",
   "metadata": {},
   "source": [
    "### The Star Forming Main Sequence\n",
    "\n",
    "A common measure of galaxy mass is its stellar mass M$_{\\star}$ in units of solar mass M$_{\\odot}$, however a galaxy’s mass can be defined in many ways. We can roughly envision that M$_{\\star}$ is proxy for galaxy size since larger galaxies typically contain more stars.\n",
    "\n",
    "4) Make a scatter plot of $log_{10}(SFR)$ vs $log_{10}(M_{\\star})$. We have $log_{10}(M_{\\star})$ provided in the SDSS data as: gals['lgm_tot_p50']. Plot $log_{10}(M_{\\star})$ on the x-axis.\n",
    "\n",
    "**Based on the plot, how does the SFR correlate with the stallar mass M$_{\\star}$?**\n"
   ]
  },
  {
   "cell_type": "markdown",
   "id": "35f8949a",
   "metadata": {},
   "source": [
    "The expected correlation is the following:\n",
    "\n",
    "$$log_{10}(SFR) = log_{10}M_{\\star} \\times 1.292 - 12.31$$\n",
    "\n",
    "5) Make the same plot $log_{10}(SFR)$ vs $log_{10}(M_{\\star})$ adding the expected correlation. What can you conclude form this plot? Are there many galaxies that are above the correlation?  "
   ]
  },
  {
   "cell_type": "markdown",
   "id": "c57a0f3b",
   "metadata": {},
   "source": [
    "6) <b>What kind of galaxies are the ones with high star formation rates?\n",
    "\n",
    "Are these spirals or ellipticals?\n",
    "\n",
    "Do these galaxies look blue or red?</b>\n",
    "\n",
    "To answere this, download a sample of images for 16 galaxies for which $log_{10}(SFR)$ is smaller than the 25th percentile of the data.\n",
    "\n",
    "You can use the code below to get the image cutouts."
   ]
  },
  {
   "cell_type": "code",
   "execution_count": 8,
   "id": "7f7fb13b",
   "metadata": {},
   "outputs": [],
   "source": [
    "#\n",
    "# Function to display images\n",
    "#\n",
    "def get_images(gal_array):\n",
    "    # set thumbnail parameters\n",
    "    width=200           # image width\n",
    "    height=200          # height\n",
    "    pixelsize=0.396     # image scale\n",
    "    plt.figure(figsize=(15, 15))   # display in a 4x4 grid\n",
    "    subPlotNum = 1\n",
    "\n",
    "    i = 0\n",
    "    new_gals = gal_array\n",
    "    nGalaxies = len(new_gals)\n",
    "    for index in range(0,nGalaxies):           # iterate through rows in the DataFrame\n",
    "        i = i + 1\n",
    "        if i<17:\n",
    "            print('Getting image of '+str(i)+' of '+str(nGalaxies)+'...')\n",
    "            if (i == nGalaxies):\n",
    "                print('Plotting images...')\n",
    "            scale=2.0 * new_gals['petror90_r'] / pixelsize / width\n",
    "\n",
    "            pos = coords.SkyCoord(new_gals['ra'][index], new_gals['dec'][index], unit=u.deg, frame='icrs')\n",
    "\n",
    "            cutoutbaseurl = 'http://skyservice.pha.jhu.edu/DR12/ImgCutout/getjpeg.aspx'\n",
    "            query_string = urlencode(dict(ra=new_gals['ra'][index], dec=new_gals['dec'][index],width=width, height=height, scale=scale[i]))\n",
    "            url = cutoutbaseurl + '?' + query_string\n",
    "\n",
    "            # this downloads the image\n",
    "            image_name = 'cutout_'+str(index)+'.jpg'\n",
    "            urlretrieve(url, image_name)\n",
    "\n",
    "            # Display the image\n",
    "            img = imread(image_name)\n",
    "\n",
    "            plt.subplot(4,4,subPlotNum)\n",
    "            subPlotNum += 1\n",
    "            plt.imshow(img)                               # show images in grid\n",
    "            plt.title(index)                              # show the object identifier (objId) above the image.\n",
    "\n",
    "######\n"
   ]
  },
  {
   "cell_type": "markdown",
   "id": "a74772e8",
   "metadata": {},
   "source": [
    "7) <b>What kind of galaxies are the ones with low star formation rates?\n",
    "\n",
    "Are these spirals or ellipticals?\n",
    "\n",
    "Do these galaxies look blue or red? </b>\n",
    "\n",
    "To answere this, download a sample of images for 16 galaxies for which $log_{10}(SFR)$ is larger than the 75th percentile of the data."
   ]
  },
  {
   "cell_type": "markdown",
   "id": "fe8aef2c",
   "metadata": {},
   "source": [
    "8) **Do yuo see a difference between the low and the high star formation rate sample?**\n",
    "\n",
    "Let's investigate the colours of these galaxies. Make a histogram of the u-g coulour.\n",
    "\n",
    "**Does the histogram look the same as the u-g colour histogram in the tutorial notebook?**  \n",
    "\n"
   ]
  },
  {
   "cell_type": "markdown",
   "id": "15a35aec",
   "metadata": {},
   "source": [
    "9) There are galaxies that form stars in an extreme way. These galaxies are called **starbusrt galaxies**.\n",
    "\n",
    "**How do the starburst galaxies look like?**\n",
    "\n",
    "To answere this, download a sample of images for 16 galaxies for which $log_{10}(SFR)$ is larger than the 99th percentile of the data.\n",
    "\n"
   ]
  },
  {
   "cell_type": "markdown",
   "id": "db326715",
   "metadata": {},
   "source": [
    "### The specific star formation rate\n",
    "\n",
    "Typically more massive galaxies have more gas and are able to form stars. This means that star formation rate alone is not a good method in evaluating how activly a galaxy is forming stars and growing. A better parameter is, if we normalise the star formation rate with the stellar mass. This is called **specific star formation rate (sSFR)**. It is defined as\n",
    "\n",
    "$$sSFR = \\frac{SFR}{M_{\\star}}$$\n",
    "\n",
    "and represents ratio of current star formation to past star formation, or the growth rate of stellar mass in a galaxy. We can calcualte the sSFR to our dataframe to explore the metric in detail.\n",
    "\n",
    "10) Calcualte the $log_{10}(sSFR)$ and make a scatter plot of $log_{10}M_{\\star}$ on the x-axis and $log_{10}(sSFR)$ on the y-axis. Make sure to exclude outliers from the plot. For this you can use ax.set_ylim().\n",
    "\n",
    "**Does this plot show the same correlation as the $log_{10}(SFR)$ - $log_{10}M_{\\star}$ plot?**\n",
    "\n",
    "**Are the high mass galaxies or the low mass galaxies more efficient at formaing stars?**"
   ]
  },
  {
   "cell_type": "markdown",
   "id": "fc25c3b4",
   "metadata": {},
   "source": [
    "11) **What kind of galaxies have the highest sSFR?**\n",
    "\n",
    "These galaxies form stars in an extreme way. These galaxies are called **starbusrt galaxies**.\n",
    "\n",
    "**How do the starburst galaxies look like?**\n",
    "\n",
    "To answere this, download a sample of images for 16 galaxies for which $log_{10}(sSFR)$ is larger than the 99.9th percentile of the data."
   ]
  },
  {
   "cell_type": "code",
   "execution_count": null,
   "id": "b34be32e",
   "metadata": {},
   "outputs": [],
   "source": []
  }
 ],
 "metadata": {
  "kernelspec": {
   "display_name": "Python 3 (ipykernel)",
   "language": "python",
   "name": "python3"
  },
  "language_info": {
   "codemirror_mode": {
    "name": "ipython",
    "version": 3
   },
   "file_extension": ".py",
   "mimetype": "text/x-python",
   "name": "python",
   "nbconvert_exporter": "python",
   "pygments_lexer": "ipython3",
   "version": "3.8.8"
  }
 },
 "nbformat": 4,
 "nbformat_minor": 5
}
