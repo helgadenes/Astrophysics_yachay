{
 "cells": [
  {
   "cell_type": "markdown",
   "id": "e93dd7e1",
   "metadata": {},
   "source": [
    "# Homework 2: Exoplanets\n",
    "The homework should be submitted as a python notebook. Make all the plots in the python notebook.\n",
    "\n",
    "Please email the homework to hdenes@yachaytech.edu.ec by the end of the day (midnight) by the 9th of May.\n",
    "\n",
    "Total points: 15\n",
    "\n",
    "Please let me know if you have any questions.\n",
    "\n",
    "Important notes:\n",
    "\n",
    "The tutorial notebooks contain the methods that you can use to solve the homework."
   ]
  },
  {
   "cell_type": "markdown",
   "id": "25bad460",
   "metadata": {},
   "source": [
    "## Analysing properties of Exoplanets\n",
    "\n",
    "The goal of this exercise is to analyse overall properties of exoplanets based on the data from the European exoplanet data base: http://exoplanet.eu/catalog/ Statistical studies of exoplanets and the properties of their host stars are critical for understanding planet formation.\n",
    "\n",
    "\n",
    "1. Download the relevant data. You can do this by either downloading the full catalogue from the website or trough python using ADQL commands. \n",
    "2. Make sure that you only have relevant data for planets. For this, think about the definition of a planet and exclude all data that does not satisfy the definition. Briefly describe your decision about excluding irrelevant data.\n",
    "3. Make a scatter plot of Semi-major axis vs. Calculated temperature. And make histograms of both Semi-major axis and temperature.\n",
    "4. What can you conlcude from the plots in #3? Is there a relation between the two parameters? Briefly explain what is the reason for the relation if there is one? \n",
    "5. Make a scatter plot of Effective temperature of the host star vs. planetary mass. Make histograms of both quantities. \n",
    "6. Describe the plots that you created in #5. What can you conclude from these plots? Brielfy explain your conclusions. \n",
    "7. In class we discussed that planets, in particular gas giants, are more common around metall rich stars. Can you show some evidence for this using histograms, scatter plots and number counts? Tip: You may want to select specific data for this.\n",
    "8. Briefly explain and describe what you found based on the plots in #7. \n",
    "9. Make a scatter plot of mass vs. radius. Make sure to have both axes in log scale. \n",
    "10. There is a known gap in the radius of planets. Can you find where this gap is in the plot from #9? Is there also a gap in the mass of planets? What does this suggest? \n",
    "11. Is there anything else that you can conclude from #9? Mark where the gap is, you can use a square or a circle on the figure. Briefly explain your observation. \n",
    "12. Calcualte the density of the exoplanets and make a histogram. Compare the histogram with the density of Earth and Jupiter. What do you find?\n",
    "13. Where are planets found? Plot the on sky position (R.A. and Dec) of all known exoplanets. What can you conclude from this. \n",
    "14. Plot histograms of the host stars distance, mass and temperature. \n",
    "15. What can you conclude from the plots in #13 and #14? Are these conclusions physically meaningfull or the result of some bias? \n",
    "\n",
    "Tips: \n",
    "- Some plots show information better on a log scale and some show information better on a linear scale. Make sure that you choose the scale of the axes of your plots appropriately. \n",
    "- Make sure to choose the bin size for histograms well. The goal is to have equally sized bins and to be able to see the shape of the distribution. "
   ]
  }
 ],
 "metadata": {
  "kernelspec": {
   "display_name": "Python 3 (ipykernel)",
   "language": "python",
   "name": "python3"
  },
  "language_info": {
   "codemirror_mode": {
    "name": "ipython",
    "version": 3
   },
   "file_extension": ".py",
   "mimetype": "text/x-python",
   "name": "python",
   "nbconvert_exporter": "python",
   "pygments_lexer": "ipython3",
   "version": "3.8.8"
  }
 },
 "nbformat": 4,
 "nbformat_minor": 5
}
